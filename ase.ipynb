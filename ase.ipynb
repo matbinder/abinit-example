{
 "cells": [
  {
   "cell_type": "code",
   "execution_count": null,
   "metadata": {},
   "outputs": [],
   "source": [
    "import os"
   ]
  },
  {
   "cell_type": "code",
   "execution_count": null,
   "metadata": {},
   "outputs": [],
   "source": [
    "os.environ[\"ASE_ABINIT_COMMAND\"] = \"abinit < PREFIX.files > PREFIX.log\"\n",
    "os.environ[\"ABINIT_PP_PATH\"] = \"/home/jovyan/abinit-pseudopotentials-2/LDA_FHI\"\n",
    "os.environ[\"ABINIT_PP_PATH\"] = \"/home/jovyan/abinit-pseudopotentials-2/GGA_FHI:$ABINIT_PP_PATH\"\n",
    "os.environ[\"ABINIT_PP_PATH\"] = \"/home/jovyan/abinit-pseudopotentials-2/LDA_HGH:$ABINIT_PP_PATH\"\n",
    "os.environ[\"ABINIT_PP_PATH\"] = \"/home/jovyan/abinit-pseudopotentials-2/LDA_PAW:$ABINIT_PP_PATH\"\n",
    "os.environ[\"ABINIT_PP_PATH\"] = \"/home/jovyan/abinit-pseudopotentials-2/LDA_TM:$ABINIT_PP_PATH\"\n",
    "os.environ[\"ABINIT_PP_PATH\"] = \"/home/jovyan/abinit-pseudopotentials-2/GGA_FHI:$ABINIT_PP_PATH\"\n",
    "os.environ[\"ABINIT_PP_PATH\"] = \"/home/jovyan/abinit-pseudopotentials-2/GGA_HGHK:$ABINIT_PP_PATH\"\n",
    "os.environ[\"ABINIT_PP_PATH\"] = \"/home/jovyan/abinit-pseudopotentials-2/GGA_PAW:$ABINIT_PP_PATH\""
   ]
  },
  {
   "cell_type": "code",
   "execution_count": null,
   "metadata": {},
   "outputs": [],
   "source": [
    "from ase.build import bulk\n",
    "from ase.units import Ry"
   ]
  },
  {
   "cell_type": "code",
   "execution_count": null,
   "metadata": {},
   "outputs": [],
   "source": [
    "from ase.calculators.abinit import Abinit"
   ]
  },
  {
   "cell_type": "code",
   "execution_count": null,
   "metadata": {},
   "outputs": [],
   "source": [
    "atoms = bulk('Si')"
   ]
  },
  {
   "cell_type": "code",
   "execution_count": null,
   "metadata": {},
   "outputs": [],
   "source": [
    "atoms.calc = Abinit(\n",
    "    label='Si',\n",
    "    nbands=8,\n",
    "    ecut=10 * Ry,\n",
    "    kpts=[4, 4, 4],\n",
    "    toldfe=1.0e-2,\n",
    ")"
   ]
  },
  {
   "cell_type": "code",
   "execution_count": null,
   "metadata": {},
   "outputs": [],
   "source": [
    "atoms.get_potential_energy()"
   ]
  }
 ],
 "metadata": {
  "kernelspec": {
   "display_name": "Python 3",
   "language": "python",
   "name": "python3"
  },
  "language_info": {
   "codemirror_mode": {
    "name": "ipython",
    "version": 3
   },
   "file_extension": ".py",
   "mimetype": "text/x-python",
   "name": "python",
   "nbconvert_exporter": "python",
   "pygments_lexer": "ipython3",
   "version": "3.7.6"
  }
 },
 "nbformat": 4,
 "nbformat_minor": 4
}
