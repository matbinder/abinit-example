{
 "cells": [
  {
   "cell_type": "code",
   "execution_count": null,
   "metadata": {},
   "outputs": [],
   "source": [
    "import os"
   ]
  },
  {
   "cell_type": "code",
   "execution_count": null,
   "metadata": {},
   "outputs": [],
   "source": [
    "pp_paths = [\n",
    "    \"/home/jovyan/abinit-pseudopotentials-2/LDA_FHI\",\n",
    "    \"/home/jovyan/abinit-pseudopotentials-2/GGA_FHI\",\n",
    "    \"/home/jovyan/abinit-pseudopotentials-2/LDA_HGH\",\n",
    "    \"/home/jovyan/abinit-pseudopotentials-2/LDA_PAW\",\n",
    "    \"/home/jovyan/abinit-pseudopotentials-2/LDA_TM\",\n",
    "    \"/home/jovyan/abinit-pseudopotentials-2/GGA_FHI\",\n",
    "    \"/home/jovyan/abinit-pseudopotentials-2/GGA_HGHK\",\n",
    "    \"/home/jovyan/abinit-pseudopotentials-2/GGA_PAW\",\n",
    "]"
   ]
  },
  {
   "cell_type": "code",
   "execution_count": null,
   "metadata": {},
   "outputs": [],
   "source": [
    "os.environ[\"ABINIT_PP_PATH\"] = ':'.join(pp_paths)"
   ]
  },
  {
   "cell_type": "code",
   "execution_count": null,
   "metadata": {},
   "outputs": [],
   "source": [
    "from ase.build import bulk\n",
    "from ase.units import Ry"
   ]
  },
  {
   "cell_type": "code",
   "execution_count": null,
   "metadata": {},
   "outputs": [],
   "source": [
    "from ase.calculators.abinit import Abinit"
   ]
  },
  {
   "cell_type": "code",
   "execution_count": null,
   "metadata": {},
   "outputs": [],
   "source": [
    "atoms = bulk('Si')"
   ]
  },
  {
   "cell_type": "code",
   "execution_count": null,
   "metadata": {},
   "outputs": [],
   "source": [
    "atoms.calc = Abinit(\n",
    "    label='Si',\n",
    "    nbands=8,\n",
    "    ecut=10 * Ry,\n",
    "    kpts=[4, 4, 4],\n",
    "    toldfe=1.0e-2,\n",
    "    pp_paths=pp_paths\n",
    ")"
   ]
  },
  {
   "cell_type": "code",
   "execution_count": null,
   "metadata": {},
   "outputs": [],
   "source": [
    "atoms.get_potential_energy()"
   ]
  },
  {
   "cell_type": "code",
   "execution_count": null,
   "metadata": {},
   "outputs": [],
   "source": []
  }
 ],
 "metadata": {
  "kernelspec": {
   "display_name": "Python 3",
   "language": "python",
   "name": "python3"
  },
  "language_info": {
   "codemirror_mode": {
    "name": "ipython",
    "version": 3
   },
   "file_extension": ".py",
   "mimetype": "text/x-python",
   "name": "python",
   "nbconvert_exporter": "python",
   "pygments_lexer": "ipython3",
   "version": "3.7.6"
  }
 },
 "nbformat": 4,
 "nbformat_minor": 4
}
